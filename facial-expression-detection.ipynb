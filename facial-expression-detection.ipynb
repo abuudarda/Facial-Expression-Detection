{
 "cells": [
  {
   "cell_type": "markdown",
   "id": "b05698fe",
   "metadata": {
    "papermill": {
     "duration": 0.0081,
     "end_time": "2022-01-16T10:08:28.198618",
     "exception": false,
     "start_time": "2022-01-16T10:08:28.190518",
     "status": "completed"
    },
    "tags": []
   },
   "source": [
    "# **libraries**"
   ]
  },
  {
   "cell_type": "code",
   "execution_count": 1,
   "id": "8558f364",
   "metadata": {
    "execution": {
     "iopub.execute_input": "2022-01-16T10:08:28.224878Z",
     "iopub.status.busy": "2022-01-16T10:08:28.224085Z",
     "iopub.status.idle": "2022-01-16T10:08:33.391905Z",
     "shell.execute_reply": "2022-01-16T10:08:33.391213Z",
     "shell.execute_reply.started": "2022-01-16T08:31:41.585037Z"
    },
    "papermill": {
     "duration": 5.185955,
     "end_time": "2022-01-16T10:08:33.392050",
     "exception": false,
     "start_time": "2022-01-16T10:08:28.206095",
     "status": "completed"
    },
    "tags": []
   },
   "outputs": [],
   "source": [
    "from dataclasses import fields\n",
    "import pandas as pd\n",
    "import numpy as np\n",
    "import matplotlib.pyplot as plt\n",
    "import tensorflow as tf\n",
    "import keras\n",
    "import keras.models as km\n",
    "from keras.layers import Dense, BatchNormalization, Flatten, Conv2D, MaxPooling2D, Dropout\n",
    "from keras.preprocessing import image\n",
    "from keras.preprocessing.image import ImageDataGenerator, img_to_array\n",
    "from keras.callbacks import ModelCheckpoint\n",
    "from sklearn.model_selection import train_test_split\n",
    "from keras.models import Sequential"
   ]
  },
  {
   "cell_type": "markdown",
   "id": "52e90272",
   "metadata": {
    "papermill": {
     "duration": 0.007427,
     "end_time": "2022-01-16T10:08:33.407304",
     "exception": false,
     "start_time": "2022-01-16T10:08:33.399877",
     "status": "completed"
    },
    "tags": []
   },
   "source": [
    "# **Requied funcions for writing files**\n"
   ]
  },
  {
   "cell_type": "code",
   "execution_count": 2,
   "id": "a6cb293a",
   "metadata": {
    "_cell_guid": "b1076dfc-b9ad-4769-8c92-a6c4dae69d19",
    "_uuid": "8f2839f25d086af736a60e9eeb907d3b93b6e0e5",
    "execution": {
     "iopub.execute_input": "2022-01-16T10:08:33.427799Z",
     "iopub.status.busy": "2022-01-16T10:08:33.426814Z",
     "iopub.status.idle": "2022-01-16T10:08:33.428623Z",
     "shell.execute_reply": "2022-01-16T10:08:33.429118Z",
     "shell.execute_reply.started": "2022-01-16T08:31:47.266275Z"
    },
    "papermill": {
     "duration": 0.015067,
     "end_time": "2022-01-16T10:08:33.429255",
     "exception": false,
     "start_time": "2022-01-16T10:08:33.414188",
     "status": "completed"
    },
    "tags": []
   },
   "outputs": [],
   "source": [
    "def print_summary(file,model):\n",
    "    with open(file,'w') as f : model.summary(print_fn= lambda x:f.write(x+'\\n'))\n",
    "def write_file(file,s):\n",
    "    with open (file,'w') as f : f.write(s);\n",
    "def write_np(file,np):\n",
    "    file = open(file, \"w+\")\n",
    "    content = str(np)\n",
    "    file.write(content)\n",
    "    file.close()\n",
    "    "
   ]
  },
  {
   "cell_type": "markdown",
   "id": "41f4c061",
   "metadata": {
    "papermill": {
     "duration": 0.0071,
     "end_time": "2022-01-16T10:08:33.443547",
     "exception": false,
     "start_time": "2022-01-16T10:08:33.436447",
     "status": "completed"
    },
    "tags": []
   },
   "source": [
    "# Preprocessing input file"
   ]
  },
  {
   "cell_type": "code",
   "execution_count": 3,
   "id": "872ff846",
   "metadata": {
    "execution": {
     "iopub.execute_input": "2022-01-16T10:08:33.473075Z",
     "iopub.status.busy": "2022-01-16T10:08:33.472459Z",
     "iopub.status.idle": "2022-01-16T10:09:04.133457Z",
     "shell.execute_reply": "2022-01-16T10:09:04.132951Z",
     "shell.execute_reply.started": "2022-01-16T08:31:47.274134Z"
    },
    "papermill": {
     "duration": 30.682857,
     "end_time": "2022-01-16T10:09:04.133598",
     "exception": false,
     "start_time": "2022-01-16T10:08:33.450741",
     "status": "completed"
    },
    "tags": []
   },
   "outputs": [],
   "source": [
    "\n",
    "def process(dataset):\n",
    "    with open(dataset) as f:\n",
    "        file = f.readlines()\n",
    "    lines = np.array(file)\n",
    "    y = []\n",
    "    x = []\n",
    "    X_train=[]\n",
    "    X_test=[]\n",
    "    Y_train=[]\n",
    "    Y_test=[]\n",
    "    \n",
    "    X_public=[]\n",
    "    Y_public=[]\n",
    "    dict = {\n",
    "        '0':np.array([1., 0., 0., 0., 0., 0., 0.]),        \n",
    "        '1':np.array([0., 1., 0., 0., 0., 0., 0.]),\n",
    "        '2':np.array([0., 0., 1., 0., 0., 0., 0.]),\n",
    "        '3':np.array([0., 0., 0., 1., 0., 0., 0.]),\n",
    "        '4':np.array([0., 0., 0., 0., 1., 0., 0.]),\n",
    "        '5':np.array([0., 0., 0., 0., 0., 1., 0.]),\n",
    "        '6':np.array([0., 0., 0., 0., 0., 0., 1.])\n",
    "    }\n",
    "    for i in range(1, lines.size):\n",
    "        ident, pixels, cat = lines[i].split(\",\")\n",
    "        pixels = pixels.split()\n",
    "        pixels = np.array(pixels, 'float32')\n",
    "        ident = dict[ident]\n",
    "        if('Training' in cat) :\n",
    "            X_train.append(pixels)\n",
    "            Y_train.append(ident)\n",
    "        elif('PrivateTest' in cat):\n",
    "            X_test.append(pixels)\n",
    "            Y_test.append(ident)\n",
    "        else :\n",
    "            X_public.append(pixels)\n",
    "            Y_public.append(ident)\n",
    "#         y.append(ident)\n",
    "#         x.append(pixels)\n",
    "\n",
    "#     X_train, X_test, Y_train, Y_test = train_test_split(x, y, test_size=0.2, random_state=100)\n",
    "\n",
    "    #changing type\n",
    "    X_train = np.array(X_train,'float32')\n",
    "    Y_train = np.array(Y_train,'float32')\n",
    "    X_test = np.array(X_test,'float32')\n",
    "    Y_test = np.array(Y_test,'float32')    \n",
    "    X_public = np.array(X_public,'float32')\n",
    "    Y_public = np.array(Y_public,'float32')\n",
    "\n",
    "    \n",
    "    #normalizing\n",
    "    X_train = X_train/255.\n",
    "    X_test = X_test/255.\n",
    "    X_public = X_public/255.\n",
    "    #reshaping\n",
    "    X_train = X_train.reshape(X_train.shape[0], 48, 48, 1)\n",
    "    X_train = X_train.astype('float32')\n",
    "    X_test = X_test.reshape(X_test.shape[0], 48, 48, 1)\n",
    "    X_test = X_test.astype('float32')\n",
    "    X_public = X_public.reshape(X_public.shape[0], 48, 48, 1)\n",
    "    X_public = X_public.astype('float32')\n",
    "    \n",
    "    return X_train, X_test, Y_train, Y_test, X_public, Y_public\n",
    "\n",
    "X_train, X_test, Y_train, Y_test, X_public, Y_public=process('../input/fer2013/fer2013.csv')\n",
    "# print(\"\\ny\",Y_train.max())\n",
    "write_np('x_test.txt',X_test)\n",
    "write_np('y_test.txt',Y_test)\n",
    "write_np('x_train.txt',X_train)\n",
    "write_np('y_train.txt',Y_train)\n"
   ]
  },
  {
   "cell_type": "code",
   "execution_count": 4,
   "id": "8a2343b4",
   "metadata": {
    "execution": {
     "iopub.execute_input": "2022-01-16T10:09:04.158013Z",
     "iopub.status.busy": "2022-01-16T10:09:04.156936Z",
     "iopub.status.idle": "2022-01-16T10:09:06.457543Z",
     "shell.execute_reply": "2022-01-16T10:09:06.457935Z",
     "shell.execute_reply.started": "2022-01-16T08:32:16.459951Z"
    },
    "papermill": {
     "duration": 2.317052,
     "end_time": "2022-01-16T10:09:06.458082",
     "exception": false,
     "start_time": "2022-01-16T10:09:04.141030",
     "status": "completed"
    },
    "tags": []
   },
   "outputs": [
    {
     "name": "stdout",
     "output_type": "stream",
     "text": [
      "Model: \"sequential\"\n",
      "_________________________________________________________________\n",
      "Layer (type)                 Output Shape              Param #   \n",
      "=================================================================\n",
      "conv2d (Conv2D)              (None, 48, 48, 32)        320       \n",
      "_________________________________________________________________\n",
      "conv2d_1 (Conv2D)            (None, 48, 48, 64)        18496     \n",
      "_________________________________________________________________\n",
      "batch_normalization (BatchNo (None, 48, 48, 64)        256       \n",
      "_________________________________________________________________\n",
      "max_pooling2d (MaxPooling2D) (None, 24, 24, 64)        0         \n",
      "_________________________________________________________________\n",
      "conv2d_2 (Conv2D)            (None, 24, 24, 128)       73856     \n",
      "_________________________________________________________________\n",
      "conv2d_3 (Conv2D)            (None, 24, 24, 128)       147584    \n",
      "_________________________________________________________________\n",
      "batch_normalization_1 (Batch (None, 24, 24, 128)       512       \n",
      "_________________________________________________________________\n",
      "max_pooling2d_1 (MaxPooling2 (None, 12, 12, 128)       0         \n",
      "_________________________________________________________________\n",
      "conv2d_4 (Conv2D)            (None, 12, 12, 256)       295168    \n",
      "_________________________________________________________________\n",
      "conv2d_5 (Conv2D)            (None, 12, 12, 256)       590080    \n",
      "_________________________________________________________________\n",
      "batch_normalization_2 (Batch (None, 12, 12, 256)       1024      \n",
      "_________________________________________________________________\n",
      "max_pooling2d_2 (MaxPooling2 (None, 6, 6, 256)         0         \n",
      "_________________________________________________________________\n",
      "flatten (Flatten)            (None, 9216)              0         \n",
      "_________________________________________________________________\n",
      "dense (Dense)                (None, 1024)              9438208   \n",
      "_________________________________________________________________\n",
      "dropout (Dropout)            (None, 1024)              0         \n",
      "_________________________________________________________________\n",
      "dense_1 (Dense)              (None, 7)                 7175      \n",
      "=================================================================\n",
      "Total params: 10,572,679\n",
      "Trainable params: 10,571,783\n",
      "Non-trainable params: 896\n",
      "_________________________________________________________________\n"
     ]
    },
    {
     "name": "stderr",
     "output_type": "stream",
     "text": [
      "2022-01-16 10:09:04.234980: I tensorflow/stream_executor/cuda/cuda_gpu_executor.cc:937] successful NUMA node read from SysFS had negative value (-1), but there must be at least one NUMA node, so returning NUMA node zero\n",
      "2022-01-16 10:09:04.368694: I tensorflow/stream_executor/cuda/cuda_gpu_executor.cc:937] successful NUMA node read from SysFS had negative value (-1), but there must be at least one NUMA node, so returning NUMA node zero\n",
      "2022-01-16 10:09:04.369401: I tensorflow/stream_executor/cuda/cuda_gpu_executor.cc:937] successful NUMA node read from SysFS had negative value (-1), but there must be at least one NUMA node, so returning NUMA node zero\n",
      "2022-01-16 10:09:04.370493: I tensorflow/core/platform/cpu_feature_guard.cc:142] This TensorFlow binary is optimized with oneAPI Deep Neural Network Library (oneDNN) to use the following CPU instructions in performance-critical operations:  AVX2 AVX512F FMA\n",
      "To enable them in other operations, rebuild TensorFlow with the appropriate compiler flags.\n",
      "2022-01-16 10:09:04.371529: I tensorflow/stream_executor/cuda/cuda_gpu_executor.cc:937] successful NUMA node read from SysFS had negative value (-1), but there must be at least one NUMA node, so returning NUMA node zero\n",
      "2022-01-16 10:09:04.372184: I tensorflow/stream_executor/cuda/cuda_gpu_executor.cc:937] successful NUMA node read from SysFS had negative value (-1), but there must be at least one NUMA node, so returning NUMA node zero\n",
      "2022-01-16 10:09:04.372795: I tensorflow/stream_executor/cuda/cuda_gpu_executor.cc:937] successful NUMA node read from SysFS had negative value (-1), but there must be at least one NUMA node, so returning NUMA node zero\n",
      "2022-01-16 10:09:06.011937: I tensorflow/stream_executor/cuda/cuda_gpu_executor.cc:937] successful NUMA node read from SysFS had negative value (-1), but there must be at least one NUMA node, so returning NUMA node zero\n",
      "2022-01-16 10:09:06.012815: I tensorflow/stream_executor/cuda/cuda_gpu_executor.cc:937] successful NUMA node read from SysFS had negative value (-1), but there must be at least one NUMA node, so returning NUMA node zero\n",
      "2022-01-16 10:09:06.013463: I tensorflow/stream_executor/cuda/cuda_gpu_executor.cc:937] successful NUMA node read from SysFS had negative value (-1), but there must be at least one NUMA node, so returning NUMA node zero\n",
      "2022-01-16 10:09:06.014035: I tensorflow/core/common_runtime/gpu/gpu_device.cc:1510] Created device /job:localhost/replica:0/task:0/device:GPU:0 with 15403 MB memory:  -> device: 0, name: Tesla P100-PCIE-16GB, pci bus id: 0000:00:04.0, compute capability: 6.0\n"
     ]
    }
   ],
   "source": [
    "#model\n",
    "\n",
    "model = Sequential()\n",
    "model.add(Conv2D(32, kernel_size=(3, 3), padding='same',\n",
    "          activation='relu', input_shape=(48, 48, 1)))\n",
    "model.add(Conv2D(64, kernel_size=(3, 3), activation='relu', padding='same'))\n",
    "model.add(BatchNormalization())\n",
    "model.add(MaxPooling2D(pool_size=(2, 2)))\n",
    "\n",
    "#2\n",
    "model.add(Conv2D(128, kernel_size=(3, 3), activation='relu', padding='same'))\n",
    "model.add(Conv2D(128, kernel_size=(3, 3), activation='relu', padding='same'))\n",
    "model.add(BatchNormalization())\n",
    "model.add(MaxPooling2D(pool_size=(2, 2)))\n",
    "\n",
    "#3\n",
    "model.add(Conv2D(256, (3, 3), activation='relu', padding='same'))\n",
    "model.add(Conv2D(256, (3, 3), activation='relu', padding='same'))\n",
    "model.add(BatchNormalization())\n",
    "model.add(MaxPooling2D(pool_size=(2, 2)))\n",
    "\n",
    "#4\n",
    "model.add(Flatten())\n",
    "model.add(Dense(1024, activation='relu'))\n",
    "model.add(Dropout(0.15))\n",
    "model.add(Dense(7, activation='softmax'))\n",
    "\n",
    "print_summary('model_summary.txt', model)\n",
    "model.summary()\n",
    "\n",
    "\n"
   ]
  },
  {
   "cell_type": "code",
   "execution_count": 5,
   "id": "06c0426b",
   "metadata": {
    "execution": {
     "iopub.execute_input": "2022-01-16T10:09:06.478854Z",
     "iopub.status.busy": "2022-01-16T10:09:06.478177Z",
     "iopub.status.idle": "2022-01-16T10:16:29.892914Z",
     "shell.execute_reply": "2022-01-16T10:16:29.892111Z",
     "shell.execute_reply.started": "2022-01-16T08:32:18.849608Z"
    },
    "papermill": {
     "duration": 443.426902,
     "end_time": "2022-01-16T10:16:29.893109",
     "exception": false,
     "start_time": "2022-01-16T10:09:06.466207",
     "status": "completed"
    },
    "tags": []
   },
   "outputs": [
    {
     "name": "stderr",
     "output_type": "stream",
     "text": [
      "2022-01-16 10:09:07.294906: I tensorflow/compiler/mlir/mlir_graph_optimization_pass.cc:185] None of the MLIR Optimization Passes are enabled (registered 2)\n"
     ]
    },
    {
     "name": "stdout",
     "output_type": "stream",
     "text": [
      "Epoch 1/40\n"
     ]
    },
    {
     "name": "stderr",
     "output_type": "stream",
     "text": [
      "2022-01-16 10:09:08.736013: I tensorflow/stream_executor/cuda/cuda_dnn.cc:369] Loaded cuDNN version 8005\n"
     ]
    },
    {
     "name": "stdout",
     "output_type": "stream",
     "text": [
      "898/898 [==============================] - 17s 12ms/step - loss: 1.9289 - accuracy: 0.3184 - val_loss: 1.6623 - val_accuracy: 0.3555\n",
      "Epoch 2/40\n",
      "898/898 [==============================] - 10s 11ms/step - loss: 1.4314 - accuracy: 0.4482 - val_loss: 1.4517 - val_accuracy: 0.4386\n",
      "Epoch 3/40\n",
      "898/898 [==============================] - 10s 11ms/step - loss: 1.2748 - accuracy: 0.5143 - val_loss: 1.2500 - val_accuracy: 0.5063\n",
      "Epoch 4/40\n",
      "898/898 [==============================] - 10s 11ms/step - loss: 1.1720 - accuracy: 0.5571 - val_loss: 1.1570 - val_accuracy: 0.5626\n",
      "Epoch 5/40\n",
      "898/898 [==============================] - 10s 11ms/step - loss: 1.0770 - accuracy: 0.5939 - val_loss: 1.1574 - val_accuracy: 0.5720\n",
      "Epoch 6/40\n",
      "898/898 [==============================] - 10s 11ms/step - loss: 0.9805 - accuracy: 0.6312 - val_loss: 1.1538 - val_accuracy: 0.5717\n",
      "Epoch 7/40\n",
      "898/898 [==============================] - 10s 11ms/step - loss: 0.8716 - accuracy: 0.6783 - val_loss: 1.1704 - val_accuracy: 0.5826\n",
      "Epoch 8/40\n",
      "898/898 [==============================] - 10s 11ms/step - loss: 0.7529 - accuracy: 0.7212 - val_loss: 1.3337 - val_accuracy: 0.5765\n",
      "Epoch 9/40\n",
      "898/898 [==============================] - 10s 11ms/step - loss: 0.6136 - accuracy: 0.7723 - val_loss: 1.4739 - val_accuracy: 0.5843\n",
      "Epoch 10/40\n",
      "898/898 [==============================] - 10s 11ms/step - loss: 0.4963 - accuracy: 0.8180 - val_loss: 1.3181 - val_accuracy: 0.5899\n",
      "Epoch 11/40\n",
      "898/898 [==============================] - 11s 12ms/step - loss: 0.4110 - accuracy: 0.8506 - val_loss: 1.5909 - val_accuracy: 0.6074\n",
      "Epoch 12/40\n",
      "898/898 [==============================] - 10s 11ms/step - loss: 0.3539 - accuracy: 0.8742 - val_loss: 1.5251 - val_accuracy: 0.5965\n",
      "Epoch 13/40\n",
      "898/898 [==============================] - 10s 11ms/step - loss: 0.2835 - accuracy: 0.8987 - val_loss: 1.6879 - val_accuracy: 0.5924\n",
      "Epoch 14/40\n",
      "898/898 [==============================] - 10s 11ms/step - loss: 0.2622 - accuracy: 0.9091 - val_loss: 2.0012 - val_accuracy: 0.5901\n",
      "Epoch 15/40\n",
      "898/898 [==============================] - 10s 11ms/step - loss: 0.2413 - accuracy: 0.9158 - val_loss: 1.7788 - val_accuracy: 0.6049\n",
      "Epoch 16/40\n",
      "898/898 [==============================] - 10s 11ms/step - loss: 0.2116 - accuracy: 0.9271 - val_loss: 2.0434 - val_accuracy: 0.6074\n",
      "Epoch 17/40\n",
      "898/898 [==============================] - 10s 11ms/step - loss: 0.2048 - accuracy: 0.9294 - val_loss: 1.8564 - val_accuracy: 0.6063\n",
      "Epoch 18/40\n",
      "898/898 [==============================] - 10s 11ms/step - loss: 0.1888 - accuracy: 0.9361 - val_loss: 1.7563 - val_accuracy: 0.5879\n",
      "Epoch 19/40\n",
      "898/898 [==============================] - 10s 11ms/step - loss: 0.1718 - accuracy: 0.9425 - val_loss: 2.1933 - val_accuracy: 0.6141\n",
      "Epoch 20/40\n",
      "898/898 [==============================] - 10s 11ms/step - loss: 0.1608 - accuracy: 0.9473 - val_loss: 1.9197 - val_accuracy: 0.5974\n",
      "Epoch 21/40\n",
      "898/898 [==============================] - 10s 11ms/step - loss: 0.1525 - accuracy: 0.9504 - val_loss: 2.3090 - val_accuracy: 0.6060\n",
      "Epoch 22/40\n",
      "898/898 [==============================] - 10s 11ms/step - loss: 0.1503 - accuracy: 0.9511 - val_loss: 2.4031 - val_accuracy: 0.6135\n",
      "Epoch 23/40\n",
      "898/898 [==============================] - 10s 11ms/step - loss: 0.1440 - accuracy: 0.9538 - val_loss: 2.8879 - val_accuracy: 0.5748\n",
      "Epoch 24/40\n",
      "898/898 [==============================] - 10s 12ms/step - loss: 0.1376 - accuracy: 0.9554 - val_loss: 2.2188 - val_accuracy: 0.6085\n",
      "Epoch 25/40\n",
      "898/898 [==============================] - 10s 11ms/step - loss: 0.1240 - accuracy: 0.9591 - val_loss: 2.1282 - val_accuracy: 0.6096\n",
      "Epoch 26/40\n",
      "898/898 [==============================] - 10s 11ms/step - loss: 0.1201 - accuracy: 0.9624 - val_loss: 2.2244 - val_accuracy: 0.6088\n",
      "Epoch 27/40\n",
      "898/898 [==============================] - 11s 12ms/step - loss: 0.1226 - accuracy: 0.9599 - val_loss: 2.5726 - val_accuracy: 0.6074\n",
      "Epoch 28/40\n",
      "898/898 [==============================] - 10s 11ms/step - loss: 0.1199 - accuracy: 0.9614 - val_loss: 2.3543 - val_accuracy: 0.5999\n",
      "Epoch 29/40\n",
      "898/898 [==============================] - 10s 11ms/step - loss: 0.1114 - accuracy: 0.9655 - val_loss: 2.2069 - val_accuracy: 0.6160\n",
      "Epoch 30/40\n",
      "898/898 [==============================] - 11s 12ms/step - loss: 0.1127 - accuracy: 0.9645 - val_loss: 2.9871 - val_accuracy: 0.5793\n",
      "Epoch 31/40\n",
      "898/898 [==============================] - 10s 11ms/step - loss: 0.1037 - accuracy: 0.9685 - val_loss: 2.7015 - val_accuracy: 0.6052\n",
      "Epoch 32/40\n",
      "898/898 [==============================] - 10s 11ms/step - loss: 0.0983 - accuracy: 0.9698 - val_loss: 2.4266 - val_accuracy: 0.6155\n",
      "Epoch 33/40\n",
      "898/898 [==============================] - 11s 12ms/step - loss: 0.1160 - accuracy: 0.9634 - val_loss: 2.3555 - val_accuracy: 0.6091\n",
      "Epoch 34/40\n",
      "898/898 [==============================] - 10s 11ms/step - loss: 0.0838 - accuracy: 0.9720 - val_loss: 3.1476 - val_accuracy: 0.6227\n",
      "Epoch 35/40\n",
      "898/898 [==============================] - 10s 11ms/step - loss: 0.0842 - accuracy: 0.9730 - val_loss: 2.4004 - val_accuracy: 0.6004\n",
      "Epoch 36/40\n",
      "898/898 [==============================] - 11s 12ms/step - loss: 0.0877 - accuracy: 0.9720 - val_loss: 2.9326 - val_accuracy: 0.6158\n",
      "Epoch 37/40\n",
      "898/898 [==============================] - 10s 11ms/step - loss: 0.1087 - accuracy: 0.9667 - val_loss: 2.5003 - val_accuracy: 0.6035\n",
      "Epoch 38/40\n",
      "898/898 [==============================] - 10s 11ms/step - loss: 0.0848 - accuracy: 0.9724 - val_loss: 2.5686 - val_accuracy: 0.6180\n",
      "Epoch 39/40\n",
      "898/898 [==============================] - 11s 12ms/step - loss: 0.0800 - accuracy: 0.9744 - val_loss: 2.7312 - val_accuracy: 0.6099\n",
      "Epoch 40/40\n",
      "898/898 [==============================] - 10s 11ms/step - loss: 0.0832 - accuracy: 0.9752 - val_loss: 2.4552 - val_accuracy: 0.5991\n"
     ]
    }
   ],
   "source": [
    "model.compile(loss='categorical_crossentropy',\n",
    "              optimizer=tf.keras.optimizers.Adam(), metrics=['accuracy'])\n",
    "\n",
    "train = model.fit(x=X_train, y=Y_train, batch_size=32, epochs=40, validation_data=(X_test, Y_test),\n",
    "                  callbacks=[ModelCheckpoint(filepath='model8.h5'), ])"
   ]
  },
  {
   "cell_type": "code",
   "execution_count": 6,
   "id": "d004a2c1",
   "metadata": {
    "execution": {
     "iopub.execute_input": "2022-01-16T10:16:34.224568Z",
     "iopub.status.busy": "2022-01-16T10:16:34.219446Z",
     "iopub.status.idle": "2022-01-16T10:16:35.015628Z",
     "shell.execute_reply": "2022-01-16T10:16:35.015096Z",
     "shell.execute_reply.started": "2022-01-16T10:07:18.295379Z"
    },
    "papermill": {
     "duration": 2.923738,
     "end_time": "2022-01-16T10:16:35.015767",
     "exception": false,
     "start_time": "2022-01-16T10:16:32.092029",
     "status": "completed"
    },
    "tags": []
   },
   "outputs": [
    {
     "data": {
      "image/png": "[encoded data removed]",
      "text/plain": [
       "<Figure size 720x360 with 2 Axes>"
      ]
     },
     "metadata": {
      "needs_background": "light"
     },
     "output_type": "display_data"
    }
   ],
   "source": [
    "# img = image.load_img('input.jpg')\n",
    "s='../input/happyf/sadkid.jpg'\n",
    "original=image.load_img(s)\n",
    "img = image.load_img(s, color_mode='grayscale', target_size=(48, 48))\n",
    "x = img_to_array(img)\n",
    "x = np.expand_dims(x, axis = 0)\n",
    "#normalize\n",
    "x = x/255.\n",
    "model = keras.models.load_model('model8.h5')\n",
    "result = model.predict(x)\n",
    "\n",
    "tick_label = ['angry', 'disgust', 'fear', 'happy',\n",
    "              'sad', 'surprise', 'neutral']\n",
    "left = [0, 1, 2, 3, 4, 5, 6]\n",
    "plt.figure(figsize=(10,5))\n",
    "plt.subplot(1,2,1)\n",
    "plt.bar(left,result[0],tick_label=tick_label)\n",
    "plt.xlabel('emotions')\n",
    "plt.ylabel('predictions')\n",
    "plt.ylim(top=1)\n",
    "plt.subplot(1,2,2)\n",
    "plt.imshow(original)\n",
    "\n",
    "\n",
    "plt.show()"
   ]
  },
  {
   "cell_type": "code",
   "execution_count": 7,
   "id": "c2d34754",
   "metadata": {
    "execution": {
     "iopub.execute_input": "2022-01-16T10:16:38.819027Z",
     "iopub.status.busy": "2022-01-16T10:16:38.818082Z",
     "iopub.status.idle": "2022-01-16T10:16:44.262273Z",
     "shell.execute_reply": "2022-01-16T10:16:44.262980Z",
     "shell.execute_reply.started": "2022-01-16T08:42:24.052468Z"
    },
    "papermill": {
     "duration": 7.381827,
     "end_time": "2022-01-16T10:16:44.263214",
     "exception": false,
     "start_time": "2022-01-16T10:16:36.881387",
     "status": "completed"
    },
    "tags": []
   },
   "outputs": [
    {
     "name": "stdout",
     "output_type": "stream",
     "text": [
      "Training accuracy: 0.9659340381622314\n",
      "Test accuracy: 0.5990526676177979\n",
      "validation accuracy: 0.6124268770217896\n"
     ]
    },
    {
     "data": {
      "image/png": "[encoded data removed]",
      "text/plain": [
       "<Figure size 432x288 with 1 Axes>"
      ]
     },
     "metadata": {
      "needs_background": "light"
     },
     "output_type": "display_data"
    }
   ],
   "source": [
    "#Evaluation\n",
    "train_score = model.evaluate(X_train, Y_train, verbose=0)\n",
    "print('Training accuracy:', train_score[1])\n",
    " \n",
    "test_score = model.evaluate(X_test, Y_test, verbose=0)\n",
    "print('Test accuracy:', test_score[1])\n",
    "\n",
    "validation_score = model.evaluate(X_public, Y_public, verbose=0)\n",
    "print('validation accuracy:', validation_score[1])\n",
    "\n",
    "plt.bar(['train','test','valid'],[train_score[1], test_score[1], validation_score[1]])\n",
    "plt.ylim(top=1)\n",
    "plt.show()"
   ]
  }
 ],
 "metadata": {
  "kernelspec": {
   "display_name": "Python 3",
   "language": "python",
   "name": "python3"
  },
  "language_info": {
   "codemirror_mode": {
    "name": "ipython",
    "version": 3
   },
   "file_extension": ".py",
   "mimetype": "text/x-python",
   "name": "python",
   "nbconvert_exporter": "python",
   "pygments_lexer": "ipython3",
   "version": "3.7.12"
  },
  "papermill": {
   "default_parameters": {},
   "duration": 510.3036,
   "end_time": "2022-01-16T10:16:49.820842",
   "environment_variables": {},
   "exception": null,
   "input_path": "__notebook__.ipynb",
   "output_path": "__notebook__.ipynb",
   "parameters": {},
   "start_time": "2022-01-16T10:08:19.517242",
   "version": "2.3.3"
  }
 },
 "nbformat": 4,
 "nbformat_minor": 5
}
