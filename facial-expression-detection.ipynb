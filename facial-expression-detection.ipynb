{
 "cells": [
  {
   "cell_type": "markdown",
   "id": "060ef3eb",
   "metadata": {
    "papermill": {
     "duration": 0.007984,
     "end_time": "2022-01-15T20:22:16.247386",
     "exception": false,
     "start_time": "2022-01-15T20:22:16.239402",
     "status": "completed"
    },
    "tags": []
   },
   "source": [
    "# **libraries**"
   ]
  },
  {
   "cell_type": "code",
   "execution_count": 1,
   "id": "166da0e2",
   "metadata": {
    "execution": {
     "iopub.execute_input": "2022-01-15T20:22:16.268527Z",
     "iopub.status.busy": "2022-01-15T20:22:16.267028Z",
     "iopub.status.idle": "2022-01-15T20:22:21.574171Z",
     "shell.execute_reply": "2022-01-15T20:22:21.574590Z",
     "shell.execute_reply.started": "2022-01-15T19:31:45.319860Z"
    },
    "papermill": {
     "duration": 5.318827,
     "end_time": "2022-01-15T20:22:21.574978",
     "exception": false,
     "start_time": "2022-01-15T20:22:16.256151",
     "status": "completed"
    },
    "tags": []
   },
   "outputs": [],
   "source": [
    "from dataclasses import fields\n",
    "import pandas as pd\n",
    "import numpy as np\n",
    "import matplotlib.pyplot as plt\n",
    "import tensorflow as tf\n",
    "import keras\n",
    "import keras.models as km\n",
    "from keras.layers import Dense, BatchNormalization, Flatten, Conv2D, MaxPooling2D, Dropout\n",
    "from keras.preprocessing import image\n",
    "from keras.preprocessing.image import ImageDataGenerator, img_to_array\n",
    "from keras.callbacks import ModelCheckpoint\n",
    "from sklearn.model_selection import train_test_split\n",
    "from keras.models import Sequential"
   ]
  },
  {
   "cell_type": "markdown",
   "id": "a378f9d2",
   "metadata": {
    "papermill": {
     "duration": 0.006681,
     "end_time": "2022-01-15T20:22:21.588813",
     "exception": false,
     "start_time": "2022-01-15T20:22:21.582132",
     "status": "completed"
    },
    "tags": []
   },
   "source": [
    "# **Requied funcions for writing files**\n"
   ]
  },
  {
   "cell_type": "code",
   "execution_count": 2,
   "id": "7bb26aa3",
   "metadata": {
    "_cell_guid": "b1076dfc-b9ad-4769-8c92-a6c4dae69d19",
    "_uuid": "8f2839f25d086af736a60e9eeb907d3b93b6e0e5",
    "execution": {
     "iopub.execute_input": "2022-01-15T20:22:21.608888Z",
     "iopub.status.busy": "2022-01-15T20:22:21.608133Z",
     "iopub.status.idle": "2022-01-15T20:22:21.610589Z",
     "shell.execute_reply": "2022-01-15T20:22:21.610193Z",
     "shell.execute_reply.started": "2022-01-15T19:31:47.073743Z"
    },
    "papermill": {
     "duration": 0.015164,
     "end_time": "2022-01-15T20:22:21.610727",
     "exception": false,
     "start_time": "2022-01-15T20:22:21.595563",
     "status": "completed"
    },
    "tags": []
   },
   "outputs": [],
   "source": [
    "def print_summary(file,model):\n",
    "    with open(file,'w') as f : model.summary(print_fn= lambda x:f.write(x+'\\n'))\n",
    "def write_file(file,s):\n",
    "    with open (file,'w') as f : f.write(s);\n",
    "def write_np(file,np):\n",
    "    file = open(file, \"w+\")\n",
    "    content = str(np)\n",
    "    file.write(content)\n",
    "    file.close()\n",
    "    "
   ]
  },
  {
   "cell_type": "markdown",
   "id": "fb3288dd",
   "metadata": {
    "papermill": {
     "duration": 0.00676,
     "end_time": "2022-01-15T20:22:21.624326",
     "exception": false,
     "start_time": "2022-01-15T20:22:21.617566",
     "status": "completed"
    },
    "tags": []
   },
   "source": [
    "# Preprocessing input file"
   ]
  },
  {
   "cell_type": "code",
   "execution_count": 3,
   "id": "84b191ed",
   "metadata": {
    "execution": {
     "iopub.execute_input": "2022-01-15T20:22:21.641519Z",
     "iopub.status.busy": "2022-01-15T20:22:21.640662Z",
     "iopub.status.idle": "2022-01-15T20:22:52.806991Z",
     "shell.execute_reply": "2022-01-15T20:22:52.806471Z",
     "shell.execute_reply.started": "2022-01-15T19:31:47.075465Z"
    },
    "papermill": {
     "duration": 31.175976,
     "end_time": "2022-01-15T20:22:52.807135",
     "exception": false,
     "start_time": "2022-01-15T20:22:21.631159",
     "status": "completed"
    },
    "tags": []
   },
   "outputs": [],
   "source": [
    "\n",
    "def process(dataset):\n",
    "    with open(dataset) as f:\n",
    "        file = f.readlines()\n",
    "    lines = np.array(file)\n",
    "    y = []\n",
    "    x = []\n",
    "    X_train=[]\n",
    "    X_test=[]\n",
    "    Y_train=[]\n",
    "    Y_test=[]\n",
    "    \n",
    "    X_public=[]\n",
    "    Y_public=[]\n",
    "    dict = {\n",
    "        '0':np.array([1., 0., 0., 0., 0., 0., 0.]),        \n",
    "        '1':np.array([0., 1., 0., 0., 0., 0., 0.]),\n",
    "        '2':np.array([0., 0., 1., 0., 0., 0., 0.]),\n",
    "        '3':np.array([0., 0., 0., 1., 0., 0., 0.]),\n",
    "        '4':np.array([0., 0., 0., 0., 1., 0., 0.]),\n",
    "        '5':np.array([0., 0., 0., 0., 0., 1., 0.]),\n",
    "        '6':np.array([0., 0., 0., 0., 0., 0., 1.])\n",
    "    }\n",
    "    for i in range(1, lines.size):\n",
    "        ident, pixels, cat = lines[i].split(\",\")\n",
    "        pixels = pixels.split()\n",
    "        pixels = np.array(pixels, 'float32')\n",
    "        ident = dict[ident]\n",
    "        if('Training' in cat) :\n",
    "            X_train.append(pixels)\n",
    "            Y_train.append(ident)\n",
    "        elif('PrivateTest' in cat):\n",
    "            X_test.append(pixels)\n",
    "            Y_test.append(ident)\n",
    "        else :\n",
    "            X_public.append(pixels)\n",
    "            Y_public.append(ident)\n",
    "#         y.append(ident)\n",
    "#         x.append(pixels)\n",
    "\n",
    "#     X_train, X_test, Y_train, Y_test = train_test_split(x, y, test_size=0.2, random_state=100)\n",
    "\n",
    "    #changing type\n",
    "    X_train = np.array(X_train,'float32')\n",
    "    Y_train = np.array(Y_train,'float32')\n",
    "    X_test = np.array(X_test,'float32')\n",
    "    Y_test = np.array(Y_test,'float32')    \n",
    "    X_public = np.array(X_public,'float32')\n",
    "    Y_public = np.array(Y_public,'float32')\n",
    "\n",
    "    \n",
    "    #normalizing\n",
    "    X_train = X_train/255.\n",
    "    X_test = X_test/255.\n",
    "    X_public = X_public/255.\n",
    "    #reshaping\n",
    "    X_train = X_train.reshape(X_train.shape[0], 48, 48, 1)\n",
    "    X_train = X_train.astype('float32')\n",
    "    X_test = X_test.reshape(X_test.shape[0], 48, 48, 1)\n",
    "    X_test = X_test.astype('float32')\n",
    "    X_public = X_public.reshape(X_public.shape[0], 48, 48, 1)\n",
    "    X_public = X_public.astype('float32')\n",
    "    \n",
    "    return X_train, X_test, Y_train, Y_test, X_public, Y_public\n",
    "\n",
    "X_train, X_test, Y_train, Y_test, X_public, Y_public=process('../input/fer2013/fer2013.csv')\n",
    "# print(\"\\ny\",Y_train.max())\n",
    "write_np('x_test.txt',X_test)\n",
    "write_np('y_test.txt',Y_test)\n",
    "write_np('x_train.txt',X_train)\n",
    "write_np('y_train.txt',Y_train)\n"
   ]
  },
  {
   "cell_type": "code",
   "execution_count": 4,
   "id": "2b78b260",
   "metadata": {
    "execution": {
     "iopub.execute_input": "2022-01-15T20:22:52.831455Z",
     "iopub.status.busy": "2022-01-15T20:22:52.830600Z",
     "iopub.status.idle": "2022-01-15T20:22:55.069112Z",
     "shell.execute_reply": "2022-01-15T20:22:55.069721Z",
     "shell.execute_reply.started": "2022-01-15T19:31:47.077070Z"
    },
    "papermill": {
     "duration": 2.255632,
     "end_time": "2022-01-15T20:22:55.069910",
     "exception": false,
     "start_time": "2022-01-15T20:22:52.814278",
     "status": "completed"
    },
    "tags": []
   },
   "outputs": [
    {
     "name": "stdout",
     "output_type": "stream",
     "text": [
      "Model: \"sequential\"\n",
      "_________________________________________________________________\n",
      "Layer (type)                 Output Shape              Param #   \n",
      "=================================================================\n",
      "conv2d (Conv2D)              (None, 48, 48, 32)        320       \n",
      "_________________________________________________________________\n",
      "conv2d_1 (Conv2D)            (None, 48, 48, 64)        18496     \n",
      "_________________________________________________________________\n",
      "batch_normalization (BatchNo (None, 48, 48, 64)        256       \n",
      "_________________________________________________________________\n",
      "max_pooling2d (MaxPooling2D) (None, 24, 24, 64)        0         \n",
      "_________________________________________________________________\n",
      "conv2d_2 (Conv2D)            (None, 24, 24, 128)       73856     \n",
      "_________________________________________________________________\n",
      "conv2d_3 (Conv2D)            (None, 24, 24, 128)       147584    \n",
      "_________________________________________________________________\n",
      "batch_normalization_1 (Batch (None, 24, 24, 128)       512       \n",
      "_________________________________________________________________\n",
      "max_pooling2d_1 (MaxPooling2 (None, 12, 12, 128)       0         \n",
      "_________________________________________________________________\n",
      "conv2d_4 (Conv2D)            (None, 12, 12, 256)       295168    \n",
      "_________________________________________________________________\n",
      "conv2d_5 (Conv2D)            (None, 12, 12, 256)       590080    \n",
      "_________________________________________________________________\n",
      "batch_normalization_2 (Batch (None, 12, 12, 256)       1024      \n",
      "_________________________________________________________________\n",
      "max_pooling2d_2 (MaxPooling2 (None, 6, 6, 256)         0         \n",
      "_________________________________________________________________\n",
      "flatten (Flatten)            (None, 9216)              0         \n",
      "_________________________________________________________________\n",
      "dense (Dense)                (None, 1024)              9438208   \n",
      "_________________________________________________________________\n",
      "dropout (Dropout)            (None, 1024)              0         \n",
      "_________________________________________________________________\n",
      "dense_1 (Dense)              (None, 7)                 7175      \n",
      "=================================================================\n",
      "Total params: 10,572,679\n",
      "Trainable params: 10,571,783\n",
      "Non-trainable params: 896\n",
      "_________________________________________________________________\n"
     ]
    },
    {
     "name": "stderr",
     "output_type": "stream",
     "text": [
      "2022-01-15 20:22:52.903745: I tensorflow/stream_executor/cuda/cuda_gpu_executor.cc:937] successful NUMA node read from SysFS had negative value (-1), but there must be at least one NUMA node, so returning NUMA node zero\n",
      "2022-01-15 20:22:53.009942: I tensorflow/stream_executor/cuda/cuda_gpu_executor.cc:937] successful NUMA node read from SysFS had negative value (-1), but there must be at least one NUMA node, so returning NUMA node zero\n",
      "2022-01-15 20:22:53.010703: I tensorflow/stream_executor/cuda/cuda_gpu_executor.cc:937] successful NUMA node read from SysFS had negative value (-1), but there must be at least one NUMA node, so returning NUMA node zero\n",
      "2022-01-15 20:22:53.011838: I tensorflow/core/platform/cpu_feature_guard.cc:142] This TensorFlow binary is optimized with oneAPI Deep Neural Network Library (oneDNN) to use the following CPU instructions in performance-critical operations:  AVX2 AVX512F FMA\n",
      "To enable them in other operations, rebuild TensorFlow with the appropriate compiler flags.\n",
      "2022-01-15 20:22:53.012832: I tensorflow/stream_executor/cuda/cuda_gpu_executor.cc:937] successful NUMA node read from SysFS had negative value (-1), but there must be at least one NUMA node, so returning NUMA node zero\n",
      "2022-01-15 20:22:53.013477: I tensorflow/stream_executor/cuda/cuda_gpu_executor.cc:937] successful NUMA node read from SysFS had negative value (-1), but there must be at least one NUMA node, so returning NUMA node zero\n",
      "2022-01-15 20:22:53.014085: I tensorflow/stream_executor/cuda/cuda_gpu_executor.cc:937] successful NUMA node read from SysFS had negative value (-1), but there must be at least one NUMA node, so returning NUMA node zero\n",
      "2022-01-15 20:22:54.606321: I tensorflow/stream_executor/cuda/cuda_gpu_executor.cc:937] successful NUMA node read from SysFS had negative value (-1), but there must be at least one NUMA node, so returning NUMA node zero\n",
      "2022-01-15 20:22:54.607185: I tensorflow/stream_executor/cuda/cuda_gpu_executor.cc:937] successful NUMA node read from SysFS had negative value (-1), but there must be at least one NUMA node, so returning NUMA node zero\n",
      "2022-01-15 20:22:54.607862: I tensorflow/stream_executor/cuda/cuda_gpu_executor.cc:937] successful NUMA node read from SysFS had negative value (-1), but there must be at least one NUMA node, so returning NUMA node zero\n",
      "2022-01-15 20:22:54.608434: I tensorflow/core/common_runtime/gpu/gpu_device.cc:1510] Created device /job:localhost/replica:0/task:0/device:GPU:0 with 15403 MB memory:  -> device: 0, name: Tesla P100-PCIE-16GB, pci bus id: 0000:00:04.0, compute capability: 6.0\n"
     ]
    }
   ],
   "source": [
    "#model\n",
    "\n",
    "model = Sequential()\n",
    "model.add(Conv2D(32, kernel_size=(3, 3), padding='same',\n",
    "          activation='relu', input_shape=(48, 48, 1)))\n",
    "model.add(Conv2D(64, kernel_size=(3, 3), activation='relu', padding='same'))\n",
    "model.add(BatchNormalization())\n",
    "model.add(MaxPooling2D(pool_size=(2, 2)))\n",
    "\n",
    "#2\n",
    "model.add(Conv2D(128, kernel_size=(3, 3), activation='relu', padding='same'))\n",
    "model.add(Conv2D(128, kernel_size=(3, 3), activation='relu', padding='same'))\n",
    "model.add(BatchNormalization())\n",
    "model.add(MaxPooling2D(pool_size=(2, 2)))\n",
    "\n",
    "#3\n",
    "model.add(Conv2D(256, (3, 3), activation='relu', padding='same'))\n",
    "model.add(Conv2D(256, (3, 3), activation='relu', padding='same'))\n",
    "model.add(BatchNormalization())\n",
    "model.add(MaxPooling2D(pool_size=(2, 2)))\n",
    "\n",
    "#4\n",
    "model.add(Flatten())\n",
    "model.add(Dense(1024, activation='relu'))\n",
    "model.add(Dropout(0.15))\n",
    "model.add(Dense(7, activation='softmax'))\n",
    "\n",
    "print_summary('model_summary.txt', model)\n",
    "model.summary()\n",
    "\n",
    "\n"
   ]
  },
  {
   "cell_type": "code",
   "execution_count": 5,
   "id": "936997a3",
   "metadata": {
    "execution": {
     "iopub.execute_input": "2022-01-15T20:22:55.092966Z",
     "iopub.status.busy": "2022-01-15T20:22:55.092291Z",
     "iopub.status.idle": "2022-01-15T20:30:18.552501Z",
     "shell.execute_reply": "2022-01-15T20:30:18.552017Z",
     "shell.execute_reply.started": "2022-01-15T19:31:47.078695Z"
    },
    "papermill": {
     "duration": 443.473424,
     "end_time": "2022-01-15T20:30:18.552641",
     "exception": false,
     "start_time": "2022-01-15T20:22:55.079217",
     "status": "completed"
    },
    "tags": []
   },
   "outputs": [
    {
     "name": "stderr",
     "output_type": "stream",
     "text": [
      "2022-01-15 20:22:55.931520: I tensorflow/compiler/mlir/mlir_graph_optimization_pass.cc:185] None of the MLIR Optimization Passes are enabled (registered 2)\n"
     ]
    },
    {
     "name": "stdout",
     "output_type": "stream",
     "text": [
      "Epoch 1/40\n"
     ]
    },
    {
     "name": "stderr",
     "output_type": "stream",
     "text": [
      "2022-01-15 20:22:57.453464: I tensorflow/stream_executor/cuda/cuda_dnn.cc:369] Loaded cuDNN version 8005\n"
     ]
    },
    {
     "name": "stdout",
     "output_type": "stream",
     "text": [
      "898/898 [==============================] - 18s 12ms/step - loss: 1.9258 - accuracy: 0.3125 - val_loss: 1.6076 - val_accuracy: 0.3639\n",
      "Epoch 2/40\n",
      "898/898 [==============================] - 10s 11ms/step - loss: 1.4600 - accuracy: 0.4338 - val_loss: 1.4122 - val_accuracy: 0.4374\n",
      "Epoch 3/40\n",
      "898/898 [==============================] - 10s 11ms/step - loss: 1.3007 - accuracy: 0.5021 - val_loss: 1.2759 - val_accuracy: 0.5305\n",
      "Epoch 4/40\n",
      "898/898 [==============================] - 10s 12ms/step - loss: 1.1922 - accuracy: 0.5501 - val_loss: 1.2440 - val_accuracy: 0.5403\n",
      "Epoch 5/40\n",
      "898/898 [==============================] - 10s 11ms/step - loss: 1.1017 - accuracy: 0.5847 - val_loss: 1.2301 - val_accuracy: 0.5319\n",
      "Epoch 6/40\n",
      "898/898 [==============================] - 10s 11ms/step - loss: 1.0001 - accuracy: 0.6253 - val_loss: 1.1807 - val_accuracy: 0.5539\n",
      "Epoch 7/40\n",
      "898/898 [==============================] - 10s 11ms/step - loss: 0.8986 - accuracy: 0.6616 - val_loss: 1.1847 - val_accuracy: 0.5553\n",
      "Epoch 8/40\n",
      "898/898 [==============================] - 10s 11ms/step - loss: 0.7687 - accuracy: 0.7154 - val_loss: 1.2398 - val_accuracy: 0.5581\n",
      "Epoch 9/40\n",
      "898/898 [==============================] - 10s 11ms/step - loss: 0.6441 - accuracy: 0.7637 - val_loss: 1.2049 - val_accuracy: 0.5829\n",
      "Epoch 10/40\n",
      "898/898 [==============================] - 10s 12ms/step - loss: 0.5271 - accuracy: 0.8044 - val_loss: 1.3174 - val_accuracy: 0.5821\n",
      "Epoch 11/40\n",
      "898/898 [==============================] - 10s 11ms/step - loss: 0.4396 - accuracy: 0.8395 - val_loss: 1.5416 - val_accuracy: 0.6032\n",
      "Epoch 12/40\n",
      "898/898 [==============================] - 10s 11ms/step - loss: 0.3635 - accuracy: 0.8696 - val_loss: 1.5383 - val_accuracy: 0.5982\n",
      "Epoch 13/40\n",
      "898/898 [==============================] - 10s 12ms/step - loss: 0.3155 - accuracy: 0.8868 - val_loss: 1.5890 - val_accuracy: 0.6060\n",
      "Epoch 14/40\n",
      "898/898 [==============================] - 10s 11ms/step - loss: 0.2681 - accuracy: 0.9037 - val_loss: 1.8739 - val_accuracy: 0.6121\n",
      "Epoch 15/40\n",
      "898/898 [==============================] - 10s 11ms/step - loss: 0.2529 - accuracy: 0.9093 - val_loss: 1.7825 - val_accuracy: 0.6043\n",
      "Epoch 16/40\n",
      "898/898 [==============================] - 10s 11ms/step - loss: 0.2254 - accuracy: 0.9221 - val_loss: 1.8986 - val_accuracy: 0.5893\n",
      "Epoch 17/40\n",
      "898/898 [==============================] - 10s 11ms/step - loss: 0.1997 - accuracy: 0.9299 - val_loss: 2.2596 - val_accuracy: 0.6024\n",
      "Epoch 18/40\n",
      "898/898 [==============================] - 10s 11ms/step - loss: 0.2002 - accuracy: 0.9320 - val_loss: 2.1846 - val_accuracy: 0.5988\n",
      "Epoch 19/40\n",
      "898/898 [==============================] - 10s 11ms/step - loss: 0.1851 - accuracy: 0.9393 - val_loss: 2.0091 - val_accuracy: 0.6035\n",
      "Epoch 20/40\n",
      "898/898 [==============================] - 10s 11ms/step - loss: 0.1649 - accuracy: 0.9447 - val_loss: 1.8964 - val_accuracy: 0.5924\n",
      "Epoch 21/40\n",
      "898/898 [==============================] - 10s 11ms/step - loss: 0.1669 - accuracy: 0.9446 - val_loss: 1.9896 - val_accuracy: 0.5996\n",
      "Epoch 22/40\n",
      "898/898 [==============================] - 10s 11ms/step - loss: 0.1516 - accuracy: 0.9492 - val_loss: 2.4242 - val_accuracy: 0.5965\n",
      "Epoch 23/40\n",
      "898/898 [==============================] - 10s 12ms/step - loss: 0.1422 - accuracy: 0.9535 - val_loss: 1.9738 - val_accuracy: 0.5823\n",
      "Epoch 24/40\n",
      "898/898 [==============================] - 10s 12ms/step - loss: 0.1519 - accuracy: 0.9521 - val_loss: 2.0901 - val_accuracy: 0.5779\n",
      "Epoch 25/40\n",
      "898/898 [==============================] - 10s 11ms/step - loss: 0.1308 - accuracy: 0.9569 - val_loss: 2.3045 - val_accuracy: 0.6094\n",
      "Epoch 26/40\n",
      "898/898 [==============================] - 10s 11ms/step - loss: 0.1233 - accuracy: 0.9604 - val_loss: 2.1346 - val_accuracy: 0.5648\n",
      "Epoch 27/40\n",
      "898/898 [==============================] - 10s 11ms/step - loss: 0.1228 - accuracy: 0.9606 - val_loss: 2.5485 - val_accuracy: 0.6147\n",
      "Epoch 28/40\n",
      "898/898 [==============================] - 10s 11ms/step - loss: 0.1236 - accuracy: 0.9600 - val_loss: 2.2495 - val_accuracy: 0.5943\n",
      "Epoch 29/40\n",
      "898/898 [==============================] - 11s 12ms/step - loss: 0.1071 - accuracy: 0.9648 - val_loss: 2.6797 - val_accuracy: 0.6141\n",
      "Epoch 30/40\n",
      "898/898 [==============================] - 10s 11ms/step - loss: 0.1133 - accuracy: 0.9633 - val_loss: 2.8189 - val_accuracy: 0.6035\n",
      "Epoch 31/40\n",
      "898/898 [==============================] - 10s 11ms/step - loss: 0.1145 - accuracy: 0.9631 - val_loss: 2.8205 - val_accuracy: 0.6052\n",
      "Epoch 32/40\n",
      "898/898 [==============================] - 11s 12ms/step - loss: 0.1070 - accuracy: 0.9661 - val_loss: 2.6420 - val_accuracy: 0.5996\n",
      "Epoch 33/40\n",
      "898/898 [==============================] - 10s 11ms/step - loss: 0.0893 - accuracy: 0.9717 - val_loss: 2.7345 - val_accuracy: 0.6077\n",
      "Epoch 34/40\n",
      "898/898 [==============================] - 10s 11ms/step - loss: 0.1061 - accuracy: 0.9656 - val_loss: 2.5336 - val_accuracy: 0.5965\n",
      "Epoch 35/40\n",
      "898/898 [==============================] - 11s 12ms/step - loss: 0.0925 - accuracy: 0.9708 - val_loss: 2.2688 - val_accuracy: 0.6124\n",
      "Epoch 36/40\n",
      "898/898 [==============================] - 10s 11ms/step - loss: 0.0969 - accuracy: 0.9688 - val_loss: 2.6031 - val_accuracy: 0.6099\n",
      "Epoch 37/40\n",
      "898/898 [==============================] - 10s 11ms/step - loss: 0.0898 - accuracy: 0.9707 - val_loss: 2.6066 - val_accuracy: 0.6113\n",
      "Epoch 38/40\n",
      "898/898 [==============================] - 11s 12ms/step - loss: 0.0878 - accuracy: 0.9722 - val_loss: 2.4774 - val_accuracy: 0.6091\n",
      "Epoch 39/40\n",
      "898/898 [==============================] - 10s 11ms/step - loss: 0.0916 - accuracy: 0.9709 - val_loss: 2.8044 - val_accuracy: 0.6066\n",
      "Epoch 40/40\n",
      "898/898 [==============================] - 10s 11ms/step - loss: 0.0851 - accuracy: 0.9736 - val_loss: 2.6770 - val_accuracy: 0.6046\n"
     ]
    }
   ],
   "source": [
    "model.compile(loss='categorical_crossentropy',\n",
    "              optimizer=tf.keras.optimizers.Adam(), metrics=['accuracy'])\n",
    "\n",
    "train = model.fit(x=X_train, y=Y_train, batch_size=32, epochs=40, validation_data=(X_test, Y_test),\n",
    "                  callbacks=[ModelCheckpoint(filepath='model8.h5'), ])"
   ]
  },
  {
   "cell_type": "code",
   "execution_count": 6,
   "id": "77f54874",
   "metadata": {
    "execution": {
     "iopub.execute_input": "2022-01-15T20:30:22.356310Z",
     "iopub.status.busy": "2022-01-15T20:30:22.355629Z",
     "iopub.status.idle": "2022-01-15T20:30:23.207238Z",
     "shell.execute_reply": "2022-01-15T20:30:23.207790Z",
     "shell.execute_reply.started": "2022-01-15T19:31:47.080280Z"
    },
    "papermill": {
     "duration": 2.803448,
     "end_time": "2022-01-15T20:30:23.207946",
     "exception": false,
     "start_time": "2022-01-15T20:30:20.404498",
     "status": "completed"
    },
    "tags": []
   },
   "outputs": [
    {
     "data": {
      "image/png": "[encoded data removed]",
      "text/plain": [
       "<Figure size 432x288 with 1 Axes>"
      ]
     },
     "metadata": {
      "needs_background": "light"
     },
     "output_type": "display_data"
    }
   ],
   "source": [
    "# img = image.load_img('input.jpg')\n",
    "img = image.load_img('../input/happyf/sadkid.jpg', color_mode='grayscale', target_size=(48, 48))\n",
    "x = img_to_array(img)\n",
    "x = np.expand_dims(x, axis = 0)\n",
    "#normalize\n",
    "x = x/255.\n",
    "model = keras.models.load_model('model8.h5')\n",
    "result = model.predict(x)\n",
    "\n",
    "tick_label = ['angry', 'disgust', 'fear', 'happy',\n",
    "              'sad', 'surprise', 'neutral']\n",
    "left = [0, 1, 2, 3, 4, 5, 6]\n",
    "plt.bar(left,result[0],tick_label=tick_label)\n",
    "plt.xlabel('emotions')\n",
    "plt.ylabel('predictions')\n",
    "plt.ylim(top=1)\n",
    "\n",
    "plt.show()"
   ]
  },
  {
   "cell_type": "code",
   "execution_count": 7,
   "id": "b38019e9",
   "metadata": {
    "execution": {
     "iopub.execute_input": "2022-01-15T20:30:27.089266Z",
     "iopub.status.busy": "2022-01-15T20:30:27.088338Z",
     "iopub.status.idle": "2022-01-15T20:30:32.349274Z",
     "shell.execute_reply": "2022-01-15T20:30:32.350003Z",
     "shell.execute_reply.started": "2022-01-15T19:31:47.081852Z"
    },
    "papermill": {
     "duration": 7.171037,
     "end_time": "2022-01-15T20:30:32.350185",
     "exception": false,
     "start_time": "2022-01-15T20:30:25.179148",
     "status": "completed"
    },
    "tags": []
   },
   "outputs": [
    {
     "name": "stdout",
     "output_type": "stream",
     "text": [
      "Training accuracy: 0.9859974384307861\n",
      "Test accuracy: 0.6046252250671387\n",
      "validation accuracy: 0.6096405386924744\n"
     ]
    },
    {
     "data": {
      "image/png": "[encoded data removed]",
      "text/plain": [
       "<Figure size 432x288 with 1 Axes>"
      ]
     },
     "metadata": {
      "needs_background": "light"
     },
     "output_type": "display_data"
    }
   ],
   "source": [
    "#Evaluation\n",
    "train_score = model.evaluate(X_train, Y_train, verbose=0)\n",
    "print('Training accuracy:', train_score[1])\n",
    " \n",
    "test_score = model.evaluate(X_test, Y_test, verbose=0)\n",
    "print('Test accuracy:', test_score[1])\n",
    "\n",
    "validation_score = model.evaluate(X_public, Y_public, verbose=0)\n",
    "print('validation accuracy:', validation_score[1])\n",
    "\n",
    "plt.bar(['train','test','valid'],[train_score[1], test_score[1], validation_score[1]])\n",
    "plt.ylim(top=1)\n",
    "plt.show()"
   ]
  }
 ],
 "metadata": {
  "kernelspec": {
   "display_name": "Python 3",
   "language": "python",
   "name": "python3"
  },
  "language_info": {
   "codemirror_mode": {
    "name": "ipython",
    "version": 3
   },
   "file_extension": ".py",
   "mimetype": "text/x-python",
   "name": "python",
   "nbconvert_exporter": "python",
   "pygments_lexer": "ipython3",
   "version": "3.7.12"
  },
  "papermill": {
   "default_parameters": {},
   "duration": 509.861694,
   "end_time": "2022-01-15T20:30:37.860444",
   "environment_variables": {},
   "exception": null,
   "input_path": "__notebook__.ipynb",
   "output_path": "__notebook__.ipynb",
   "parameters": {},
   "start_time": "2022-01-15T20:22:07.998750",
   "version": "2.3.3"
  }
 },
 "nbformat": 4,
 "nbformat_minor": 5
}
